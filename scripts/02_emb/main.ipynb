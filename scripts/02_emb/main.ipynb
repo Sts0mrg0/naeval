{
 "cells": [
  {
   "cell_type": "code",
   "execution_count": 2,
   "metadata": {},
   "outputs": [
    {
     "name": "stdout",
     "output_type": "stream",
     "text": [
      "The autoreload extension is already loaded. To reload it, use:\n",
      "  %reload_ext autoreload\n"
     ]
    }
   ],
   "source": [
    "%load_ext autoreload\n",
    "%autoreload 2\n",
    "%run -n main.py"
   ]
  },
  {
   "cell_type": "markdown",
   "metadata": {},
   "source": [
    "# datasets"
   ]
  },
  {
   "cell_type": "code",
   "execution_count": null,
   "metadata": {},
   "outputs": [],
   "source": [
    "# path = join_path(DATA_DIR, DATASET)\n",
    "# !mkdir -p {path}"
   ]
  },
  {
   "cell_type": "code",
   "execution_count": null,
   "metadata": {},
   "outputs": [],
   "source": [
    "# for name in DATASETS:\n",
    "#     file = CORUS_FILES[name]\n",
    "#     if name == AE:\n",
    "#         path = [join_path(CORUS_DATA_DIR, _) for _ in file]\n",
    "#     else:\n",
    "#         path = join_path(CORUS_DATA_DIR, file)\n",
    "    \n",
    "#     records = DATASETS[name](path)\n",
    "#     records = log_progress(records, desc=name)\n",
    "#     items = as_jsons(records)\n",
    "#     lines = format_jl(items)\n",
    "#     path = join_path(DATA_DIR, DATASET, name + JL + GZ)\n",
    "#     dump_gz_lines(lines, path)"
   ]
  },
  {
   "cell_type": "code",
   "execution_count": 3,
   "metadata": {},
   "outputs": [
    {
     "data": {
      "application/vnd.jupyter.widget-view+json": {
       "model_id": "d47e9cf580174e7581c6e15bcfdbb55a",
       "version_major": 2,
       "version_minor": 0
      },
      "text/plain": [
       "HBox(children=(FloatProgress(value=0.0, max=6.0), HTML(value='')))"
      ]
     },
     "metadata": {},
     "output_type": "display_data"
    },
    {
     "name": "stdout",
     "output_type": "stream",
     "text": [
      "\n"
     ]
    }
   ],
   "source": [
    "datasets = {}\n",
    "for name in log_progress(DATASETS):\n",
    "    path = join_path(DATA_DIR, DATASET, name + JL + GZ)\n",
    "    lines = load_gz_lines(path)\n",
    "    items = parse_jl(lines)\n",
    "    datasets[name] = list(from_jsons(items, Sim))"
   ]
  },
  {
   "cell_type": "markdown",
   "metadata": {},
   "source": [
    "# models"
   ]
  },
  {
   "cell_type": "code",
   "execution_count": null,
   "metadata": {},
   "outputs": [],
   "source": [
    "# for scheme in SCHEMES:\n",
    "#     path = join_path(DATA_DIR, scheme.name)\n",
    "#     !mkdir -p {path}"
   ]
  },
  {
   "cell_type": "code",
   "execution_count": null,
   "metadata": {},
   "outputs": [],
   "source": [
    "# dir = RUSVEC_DATA_DIR\n",
    "# # !wget http://vectors.nlpl.eu/repository/11/180.zip -O {dir}/ruscorpora_upos_cbow_300_20_2019.zip\n",
    "# # !unzip {dir}/ruscorpora_upos_cbow_300_20_2019.zip -d {dir}/ruscorpora_upos_cbow_300_20_2019\n",
    "# # !rm {dir}/ruscorpora_upos_cbow_300_20_2019.zip {dir}/ruscorpora_upos_cbow_300_20_2019/model.txt\n",
    "\n",
    "# # !wget http://vectors.nlpl.eu/repository/11/182.zip -O {dir}/ruwikiruscorpora_upos_skipgram_300_2_2019.zip\n",
    "# # !unzip {dir}/ruwikiruscorpora_upos_skipgram_300_2_2019.zip -d {dir}/ruwikiruscorpora_upos_skipgram_300_2_2019\n",
    "# # !rm {dir}/ruwikiruscorpora_upos_skipgram_300_2_2019.zip {dir}/ruwikiruscorpora_upos_skipgram_300_2_2019/model.txt\n",
    "\n",
    "# # !wget http://vectors.nlpl.eu/repository/11/185.zip -O {dir}/tayga_upos_skipgram_300_2_2019.zip\n",
    "# # !unzip {dir}/tayga_upos_skipgram_300_2_2019.zip -d {dir}/tayga_upos_skipgram_300_2_2019\n",
    "# # !rm {dir}/tayga_upos_skipgram_300_2_2019.zip {dir}/tayga_upos_skipgram_300_2_2019/model.txt\n",
    "\n",
    "# # !wget http://vectors.nlpl.eu/repository/11/187.zip -O {dir}/tayga_none_fasttextcbow_300_10_2019.zip\n",
    "# # !unzip {dir}/tayga_none_fasttextcbow_300_10_2019.zip -d {dir}/tayga_none_fasttextcbow_300_10_2019\n",
    "# # !rm {dir}/tayga_none_fasttextcbow_300_10_2019.zip\n",
    "\n",
    "# # !wget https://rusvectores.org/static/models/rusvectores4/fasttext/araneum_none_fasttextcbow_300_5_2018.tgz -O {dir}/araneum_none_fasttextcbow_300_5_2018.tgz\n",
    "# # !mkdir {dir}/araneum_none_fasttextcbow_300_5_2018\n",
    "# # !tar xzvf {dir}/araneum_none_fasttextcbow_300_5_2018.tgz -C {dir}/araneum_none_fasttextcbow_300_5_2018\n",
    "# # !rm {dir}/araneum_none_fasttextcbow_300_5_2018.tgz"
   ]
  },
  {
   "cell_type": "code",
   "execution_count": null,
   "metadata": {},
   "outputs": [],
   "source": [
    "# for scheme in SCHEMES:\n",
    "#     log(scheme.name)\n",
    "#     model = scheme.load()\n",
    "#     for dataset_name in datasets:\n",
    "#         records = datasets[dataset_name]\n",
    "#         records = log_progress(records, desc=dataset_name)\n",
    "#         records = map_model(model, records, scheme.tagged)\n",
    "#         items = as_jsons(records)\n",
    "#         lines = format_jl(items)\n",
    "#         path = join_path(DATA_DIR, scheme.name, dataset_name + JL + GZ)\n",
    "#         dump_gz_lines(lines, path)\n",
    "        \n",
    "#         records = datasets[dataset_name]\n",
    "#         for record in records[:1000]:  # measure get perf\n",
    "#             model.get(record.a)\n",
    "            \n",
    "#         path = join_path(DATA_DIR, scheme.name, STATS + JSON)\n",
    "#         text = format_json(scheme.stats.as_json)\n",
    "#         dump_text(text, path)"
   ]
  },
  {
   "cell_type": "markdown",
   "metadata": {},
   "source": [
    "# score"
   ]
  },
  {
   "cell_type": "code",
   "execution_count": 4,
   "metadata": {},
   "outputs": [],
   "source": [
    "stats = {}\n",
    "for scheme in SCHEMES:\n",
    "    path = join_path(DATA_DIR, scheme.name, STATS + JSON)\n",
    "    text = load_text(path)\n",
    "    data = parse_json(text)\n",
    "    stats[scheme.name] = Stats.from_json(data)"
   ]
  },
  {
   "cell_type": "code",
   "execution_count": 5,
   "metadata": {},
   "outputs": [
    {
     "data": {
      "application/vnd.jupyter.widget-view+json": {
       "model_id": "183c4fa33502431487e3aa4dff4f593e",
       "version_major": 2,
       "version_minor": 0
      },
      "text/plain": [
       "HBox(children=(FloatProgress(value=0.0, max=42.0), HTML(value='')))"
      ]
     },
     "metadata": {},
     "output_type": "display_data"
    },
    {
     "name": "stdout",
     "output_type": "stream",
     "text": [
      "\n"
     ]
    }
   ],
   "source": [
    "scores = {}\n",
    "keys = [\n",
    "    (scheme.name, dataset)\n",
    "    for scheme in SCHEMES\n",
    "    for dataset in DATASETS\n",
    "]\n",
    "for model, dataset in log_progress(keys):\n",
    "    targets = datasets[dataset]\n",
    "\n",
    "    path = join_path(DATA_DIR, model, dataset + JL + GZ)\n",
    "    lines = load_gz_lines(path)\n",
    "    items = parse_jl(lines)\n",
    "    preds = list(from_jsons(items, Sim))\n",
    "\n",
    "    score = SCORES[dataset](preds, targets)\n",
    "    scores[model, dataset] = score"
   ]
  },
  {
   "cell_type": "markdown",
   "metadata": {},
   "source": [
    "# report"
   ]
  },
  {
   "cell_type": "code",
   "execution_count": 6,
   "metadata": {},
   "outputs": [
    {
     "data": {
      "text/html": [
       "<table border=\"0\" class=\"dataframe\">\n",
       "  <thead>\n",
       "    <tr style=\"text-align: right;\">\n",
       "      <th></th>\n",
       "      <th>type</th>\n",
       "      <th>init, s</th>\n",
       "      <th>get, µs</th>\n",
       "      <th>disk, mb</th>\n",
       "      <th>ram, mb</th>\n",
       "      <th>simlex</th>\n",
       "      <th>hj</th>\n",
       "      <th>rt</th>\n",
       "      <th>ae</th>\n",
       "      <th>ae2</th>\n",
       "      <th>lrwc</th>\n",
       "    </tr>\n",
       "  </thead>\n",
       "  <tbody>\n",
       "    <tr>\n",
       "      <th>hudlit_12B_500K_300d_100q</th>\n",
       "      <td>navec</td>\n",
       "      <td>1.0</td>\n",
       "      <td>19.9</td>\n",
       "      <td>50.6</td>\n",
       "      <td>95.3</td>\n",
       "      <td>0.310/0.99</td>\n",
       "      <td>0.707/0.98</td>\n",
       "      <td>0.842/0.71</td>\n",
       "      <td>0.931/0.95</td>\n",
       "      <td>0.923/0.83</td>\n",
       "      <td>0.604/0.64</td>\n",
       "    </tr>\n",
       "    <tr>\n",
       "      <th>news_1B_250K_300d_100q</th>\n",
       "      <td>navec</td>\n",
       "      <td>0.5</td>\n",
       "      <td>20.3</td>\n",
       "      <td>25.4</td>\n",
       "      <td>47.7</td>\n",
       "      <td>0.230/0.93</td>\n",
       "      <td>0.590/0.97</td>\n",
       "      <td>0.784/0.51</td>\n",
       "      <td>0.866/0.89</td>\n",
       "      <td>0.861/0.66</td>\n",
       "      <td>0.589/0.61</td>\n",
       "    </tr>\n",
       "    <tr>\n",
       "      <th>ruscorpora_upos_cbow_300_20_2019</th>\n",
       "      <td>w2v</td>\n",
       "      <td>12.1</td>\n",
       "      <td>1.6</td>\n",
       "      <td>220.6</td>\n",
       "      <td>236.1</td>\n",
       "      <td>0.359/1.00</td>\n",
       "      <td>0.685/0.95</td>\n",
       "      <td>0.852/0.54</td>\n",
       "      <td>0.758/0.71</td>\n",
       "      <td>0.896/0.58</td>\n",
       "      <td>0.602/0.59</td>\n",
       "    </tr>\n",
       "    <tr>\n",
       "      <th>ruwikiruscorpora_upos_skipgram_300_2_2019</th>\n",
       "      <td>w2v</td>\n",
       "      <td>15.7</td>\n",
       "      <td>1.7</td>\n",
       "      <td>290.0</td>\n",
       "      <td>309.4</td>\n",
       "      <td>0.321/1.00</td>\n",
       "      <td>0.723/0.94</td>\n",
       "      <td>0.817/0.58</td>\n",
       "      <td>0.801/0.74</td>\n",
       "      <td>0.860/0.63</td>\n",
       "      <td>0.629/0.58</td>\n",
       "    </tr>\n",
       "    <tr>\n",
       "      <th>tayga_upos_skipgram_300_2_2019</th>\n",
       "      <td>w2v</td>\n",
       "      <td>15.7</td>\n",
       "      <td>1.2</td>\n",
       "      <td>290.7</td>\n",
       "      <td>310.9</td>\n",
       "      <td>0.429/0.99</td>\n",
       "      <td>0.749/0.96</td>\n",
       "      <td>0.871/0.57</td>\n",
       "      <td>0.771/0.76</td>\n",
       "      <td>0.899/0.62</td>\n",
       "      <td>0.639/0.59</td>\n",
       "    </tr>\n",
       "    <tr>\n",
       "      <th>tayga_none_fasttextcbow_300_10_2019</th>\n",
       "      <td>fasttext</td>\n",
       "      <td>11.3</td>\n",
       "      <td>14.3</td>\n",
       "      <td>2741.9</td>\n",
       "      <td>2746.9</td>\n",
       "      <td>0.369/1.00</td>\n",
       "      <td>0.639/1.00</td>\n",
       "      <td>0.793/1.00</td>\n",
       "      <td>0.682/1.00</td>\n",
       "      <td>0.813/1.00</td>\n",
       "      <td>0.536/1.00</td>\n",
       "    </tr>\n",
       "    <tr>\n",
       "      <th>araneum_none_fasttextcbow_300_5_2018</th>\n",
       "      <td>fasttext</td>\n",
       "      <td>7.8</td>\n",
       "      <td>15.4</td>\n",
       "      <td>2752.1</td>\n",
       "      <td>2754.7</td>\n",
       "      <td>0.349/1.00</td>\n",
       "      <td>0.671/1.00</td>\n",
       "      <td>0.801/1.00</td>\n",
       "      <td>0.706/1.00</td>\n",
       "      <td>0.793/1.00</td>\n",
       "      <td>0.579/1.00</td>\n",
       "    </tr>\n",
       "  </tbody>\n",
       "</table>"
      ],
      "text/plain": [
       "<IPython.core.display.HTML object>"
      ]
     },
     "execution_count": 6,
     "metadata": {},
     "output_type": "execute_result"
    }
   ],
   "source": [
    "table = report_table(scores, stats, DATASETS, SCHEMES)\n",
    "html = format_report(table, DATASETS)\n",
    "HTML(html)"
   ]
  },
  {
   "cell_type": "code",
   "execution_count": 7,
   "metadata": {},
   "outputs": [
    {
     "data": {
      "text/html": [
       "<table border=\"0\" class=\"dataframe\">\n",
       "  <thead>\n",
       "    <tr style=\"text-align: right;\">\n",
       "      <th></th>\n",
       "      <th>type</th>\n",
       "      <th>init, s</th>\n",
       "      <th>get, µs</th>\n",
       "      <th>disk, mb</th>\n",
       "      <th>ram, mb</th>\n",
       "      <th>vocab</th>\n",
       "    </tr>\n",
       "  </thead>\n",
       "  <tbody>\n",
       "    <tr>\n",
       "      <th>hudlit_12B_500K_300d_100q</th>\n",
       "      <td>navec</td>\n",
       "      <td><b>1.0</b></td>\n",
       "      <td>19.9</td>\n",
       "      <td><b>50.6</b></td>\n",
       "      <td><b>95.3</b></td>\n",
       "      <td><b>500K</b></td>\n",
       "    </tr>\n",
       "    <tr>\n",
       "      <th>news_1B_250K_300d_100q</th>\n",
       "      <td>navec</td>\n",
       "      <td><b>0.5</b></td>\n",
       "      <td>20.3</td>\n",
       "      <td><b>25.4</b></td>\n",
       "      <td><b>47.7</b></td>\n",
       "      <td><b>250K</b></td>\n",
       "    </tr>\n",
       "    <tr>\n",
       "      <th>ruscorpora_upos_cbow_300_20_2019</th>\n",
       "      <td>w2v</td>\n",
       "      <td>12.1</td>\n",
       "      <td><b>1.6</b></td>\n",
       "      <td><b>220.6</b></td>\n",
       "      <td><b>236.1</b></td>\n",
       "      <td>189K</td>\n",
       "    </tr>\n",
       "    <tr>\n",
       "      <th>ruwikiruscorpora_upos_skipgram_300_2_2019</th>\n",
       "      <td>w2v</td>\n",
       "      <td>15.7</td>\n",
       "      <td><b>1.7</b></td>\n",
       "      <td>290.0</td>\n",
       "      <td>309.4</td>\n",
       "      <td>248K</td>\n",
       "    </tr>\n",
       "    <tr>\n",
       "      <th>tayga_upos_skipgram_300_2_2019</th>\n",
       "      <td>w2v</td>\n",
       "      <td>15.7</td>\n",
       "      <td><b>1.2</b></td>\n",
       "      <td>290.7</td>\n",
       "      <td>310.9</td>\n",
       "      <td><b>249K</b></td>\n",
       "    </tr>\n",
       "    <tr>\n",
       "      <th>tayga_none_fasttextcbow_300_10_2019</th>\n",
       "      <td>fasttext</td>\n",
       "      <td>11.3</td>\n",
       "      <td>14.3</td>\n",
       "      <td>2741.9</td>\n",
       "      <td>2746.9</td>\n",
       "      <td>192K</td>\n",
       "    </tr>\n",
       "    <tr>\n",
       "      <th>araneum_none_fasttextcbow_300_5_2018</th>\n",
       "      <td>fasttext</td>\n",
       "      <td><b>7.8</b></td>\n",
       "      <td>15.4</td>\n",
       "      <td>2752.1</td>\n",
       "      <td>2754.7</td>\n",
       "      <td>195K</td>\n",
       "    </tr>\n",
       "  </tbody>\n",
       "</table>"
      ],
      "text/plain": [
       "<IPython.core.display.HTML object>"
      ]
     },
     "execution_count": 7,
     "metadata": {},
     "output_type": "execute_result"
    }
   ],
   "source": [
    "html = format_github_report1(table)\n",
    "patch_readme(EMB1, html, README)\n",
    "patch_readme(EMB1, html, NAVEC_README)\n",
    "HTML(html)"
   ]
  },
  {
   "cell_type": "code",
   "execution_count": 8,
   "metadata": {},
   "outputs": [
    {
     "data": {
      "text/html": [
       "<table border=\"0\" class=\"dataframe\">\n",
       "  <thead>\n",
       "    <tr style=\"text-align: right;\">\n",
       "      <th></th>\n",
       "      <th>type</th>\n",
       "      <th>simlex</th>\n",
       "      <th>hj</th>\n",
       "      <th>rt</th>\n",
       "      <th>ae</th>\n",
       "      <th>ae2</th>\n",
       "      <th>lrwc</th>\n",
       "    </tr>\n",
       "  </thead>\n",
       "  <tbody>\n",
       "    <tr>\n",
       "      <th>hudlit_12B_500K_300d_100q</th>\n",
       "      <td>navec</td>\n",
       "      <td>0.310</td>\n",
       "      <td><b>0.707</b></td>\n",
       "      <td><b>0.842</b></td>\n",
       "      <td><b>0.931</b></td>\n",
       "      <td><b>0.923</b></td>\n",
       "      <td><b>0.604</b></td>\n",
       "    </tr>\n",
       "    <tr>\n",
       "      <th>news_1B_250K_300d_100q</th>\n",
       "      <td>navec</td>\n",
       "      <td>0.230</td>\n",
       "      <td>0.590</td>\n",
       "      <td>0.784</td>\n",
       "      <td><b>0.866</b></td>\n",
       "      <td>0.861</td>\n",
       "      <td>0.589</td>\n",
       "    </tr>\n",
       "    <tr>\n",
       "      <th>ruscorpora_upos_cbow_300_20_2019</th>\n",
       "      <td>w2v</td>\n",
       "      <td><b>0.359</b></td>\n",
       "      <td>0.685</td>\n",
       "      <td><b>0.852</b></td>\n",
       "      <td>0.758</td>\n",
       "      <td><b>0.896</b></td>\n",
       "      <td>0.602</td>\n",
       "    </tr>\n",
       "    <tr>\n",
       "      <th>ruwikiruscorpora_upos_skipgram_300_2_2019</th>\n",
       "      <td>w2v</td>\n",
       "      <td>0.321</td>\n",
       "      <td><b>0.723</b></td>\n",
       "      <td>0.817</td>\n",
       "      <td><b>0.801</b></td>\n",
       "      <td>0.860</td>\n",
       "      <td><b>0.629</b></td>\n",
       "    </tr>\n",
       "    <tr>\n",
       "      <th>tayga_upos_skipgram_300_2_2019</th>\n",
       "      <td>w2v</td>\n",
       "      <td><b>0.429</b></td>\n",
       "      <td><b>0.749</b></td>\n",
       "      <td><b>0.871</b></td>\n",
       "      <td>0.771</td>\n",
       "      <td><b>0.899</b></td>\n",
       "      <td><b>0.639</b></td>\n",
       "    </tr>\n",
       "    <tr>\n",
       "      <th>tayga_none_fasttextcbow_300_10_2019</th>\n",
       "      <td>fasttext</td>\n",
       "      <td><b>0.369</b></td>\n",
       "      <td>0.639</td>\n",
       "      <td>0.793</td>\n",
       "      <td>0.682</td>\n",
       "      <td>0.813</td>\n",
       "      <td>0.536</td>\n",
       "    </tr>\n",
       "    <tr>\n",
       "      <th>araneum_none_fasttextcbow_300_5_2018</th>\n",
       "      <td>fasttext</td>\n",
       "      <td>0.349</td>\n",
       "      <td>0.671</td>\n",
       "      <td>0.801</td>\n",
       "      <td>0.706</td>\n",
       "      <td>0.793</td>\n",
       "      <td>0.579</td>\n",
       "    </tr>\n",
       "  </tbody>\n",
       "</table>"
      ],
      "text/plain": [
       "<IPython.core.display.HTML object>"
      ]
     },
     "execution_count": 8,
     "metadata": {},
     "output_type": "execute_result"
    }
   ],
   "source": [
    "html = format_github_report2(table, DATASETS)\n",
    "patch_readme(EMB2, html, README)\n",
    "patch_readme(EMB2, html, NAVEC_README)\n",
    "HTML(html)"
   ]
  },
  {
   "cell_type": "code",
   "execution_count": null,
   "metadata": {},
   "outputs": [],
   "source": []
  }
 ],
 "metadata": {
  "kernelspec": {
   "display_name": "Python 3",
   "language": "python",
   "name": "python3"
  },
  "language_info": {
   "codemirror_mode": {
    "name": "ipython",
    "version": 3
   },
   "file_extension": ".py",
   "mimetype": "text/x-python",
   "name": "python",
   "nbconvert_exporter": "python",
   "pygments_lexer": "ipython3",
   "version": "3.6.9"
  }
 },
 "nbformat": 4,
 "nbformat_minor": 2
}
