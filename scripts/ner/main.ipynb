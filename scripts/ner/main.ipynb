{
 "cells": [
  {
   "cell_type": "code",
   "execution_count": null,
   "metadata": {},
   "outputs": [],
   "source": [
    "%load_ext autoreload\n",
    "%autoreload 2\n",
    "%run -n main.py"
   ]
  },
  {
   "cell_type": "markdown",
   "metadata": {},
   "source": [
    "# sources"
   ]
  },
  {
   "cell_type": "code",
   "execution_count": null,
   "metadata": {},
   "outputs": [],
   "source": [
    "# path = join_path(DATA_DIR, SOURCE)\n",
    "# !mkdir -p {path}"
   ]
  },
  {
   "cell_type": "code",
   "execution_count": null,
   "metadata": {
    "scrolled": false
   },
   "outputs": [],
   "source": [
    "# for name in [NE5, BSNLP, FACTRU, GAREEV]:\n",
    "#     path = join_path(CORUS_DATA_DIR, CORUS_FILES[name])\n",
    "#     records = LOADS[name](path)\n",
    "#     records = (_.adapted for _ in records)\n",
    "#     records = log_progress(records, desc=name)\n",
    "\n",
    "#     path = join_path(DATA_DIR, TARGET, name + JL + GZ)\n",
    "#     items = (_.as_json for _ in records)\n",
    "#     lines = format_jl(items)\n",
    "#     dump_gz_lines(lines, path)"
   ]
  },
  {
   "cell_type": "code",
   "execution_count": null,
   "metadata": {},
   "outputs": [],
   "source": [
    "%run -n main.py\n",
    "sources = {}\n",
    "for name in [NE5, BSNLP, FACTRU, GAREEV]:\n",
    "    path = join_path(DATA_DIR, SOURCE, name + JL + GZ)\n",
    "    lines = load_gz_lines(path)\n",
    "    items = parse_jl(lines)\n",
    "    sources[name] = [Markup.from_json(_) for _ in items]"
   ]
  },
  {
   "cell_type": "markdown",
   "metadata": {},
   "source": [
    "# annotators"
   ]
  },
  {
   "cell_type": "markdown",
   "metadata": {},
   "source": [
    "## cpu"
   ]
  },
  {
   "cell_type": "code",
   "execution_count": null,
   "metadata": {},
   "outputs": [],
   "source": [
    "# for name in [MITIE, NATASHA, PULLENTI, TEXTERRA, TOMITA, DEEPPAVLOV, DEEPPAVLOV_BERT]:\n",
    "#     path = join_path(DATA_DIR, name)\n",
    "#     !mkdir -p {path}"
   ]
  },
  {
   "cell_type": "code",
   "execution_count": null,
   "metadata": {},
   "outputs": [],
   "source": [
    "# %run -n main.py\n",
    "# docker = docker_client()"
   ]
  },
  {
   "cell_type": "code",
   "execution_count": null,
   "metadata": {},
   "outputs": [],
   "source": [
    "# %run -n main.py\n",
    "# for ann_name in [MITIE, TOMITA, NATASHA, PULLENTI, TEXTERRA]:\n",
    "#     log(ann_name)\n",
    "#     ann = ANNS[ann_name]()\n",
    "#     ann.start(docker)\n",
    "#     ann.wait()\n",
    "\n",
    "#     for source_name in [NE5, BSNLP, FACTRU, GAREEV]:\n",
    "#         records = ann.map(_.text for _ in sources[source_name])\n",
    "#         records = (_.adapted for _ in records)\n",
    "#         records = log_progress(records, desc=source_name)\n",
    "\n",
    "#         path = join_path(DATA_DIR, ann_name, source_name + JL + GZ)\n",
    "#         items = (_.as_json for _ in records)\n",
    "#         lines = format_jl(items)\n",
    "#         dump_gz_lines(lines, path)\n",
    "    \n",
    "#     ann.stop(docker)"
   ]
  },
  {
   "cell_type": "markdown",
   "metadata": {},
   "source": [
    "## gpu"
   ]
  },
  {
   "cell_type": "code",
   "execution_count": null,
   "metadata": {},
   "outputs": [],
   "source": [
    "# for deeppavlov anns rent gpu\n",
    "# select cuda 10.0, high bandwith\n",
    "# !vast search offers | grep '1 x  GTX 1080 Ti'"
   ]
  },
  {
   "cell_type": "code",
   "execution_count": null,
   "metadata": {},
   "outputs": [],
   "source": [
    "# %run -n main\n",
    "# # ann = DeeppavlovAnnotator()\n",
    "# ann = DeeppavlovBERTAnnotator()"
   ]
  },
  {
   "cell_type": "code",
   "execution_count": null,
   "metadata": {},
   "outputs": [],
   "source": [
    "# !vast create instance 488497 --image {ann.image} --disk 20"
   ]
  },
  {
   "cell_type": "code",
   "execution_count": null,
   "metadata": {},
   "outputs": [],
   "source": [
    "# !vast show instances"
   ]
  },
  {
   "cell_type": "code",
   "execution_count": null,
   "metadata": {},
   "outputs": [],
   "source": [
    "# !ssh ssh4.vast.ai -p 12870 -l root -Nf -L {ann.port}:localhost:{ann.container_port}"
   ]
  },
  {
   "cell_type": "code",
   "execution_count": null,
   "metadata": {},
   "outputs": [],
   "source": [
    "# for source_name in [NE5, BSNLP, FACTRU, GAREEV]:\n",
    "#     records = sources[source_name]\n",
    "#     records = log_progress(records, desc=source_name)\n",
    "#     records = ann.map(_.text for _ in records)\n",
    "#     records = (_.adapted for _ in records)\n",
    "\n",
    "#     path = join_path(DATA_DIR, ann.name, source_name + JL + GZ)\n",
    "#     items = (_.as_json for _ in records)\n",
    "#     lines = format_jl(items)\n",
    "#     dump_gz_lines(lines, path)"
   ]
  },
  {
   "cell_type": "code",
   "execution_count": null,
   "metadata": {},
   "outputs": [],
   "source": [
    "# !vast destroy instance 492870"
   ]
  },
  {
   "cell_type": "markdown",
   "metadata": {},
   "source": [
    "# score"
   ]
  },
  {
   "cell_type": "code",
   "execution_count": null,
   "metadata": {},
   "outputs": [],
   "source": [
    "source_anns = {}\n",
    "for source in SOURCES:\n",
    "    for ann in ANNS:\n",
    "        path = join_path(DATA_DIR, ann, source + JL + GZ)\n",
    "        lines = load_gz_lines(path)\n",
    "        items = parse_jl(lines)\n",
    "        source_anns[source, ann] = [Markup.from_json(_) for _ in items]"
   ]
  },
  {
   "cell_type": "code",
   "execution_count": null,
   "metadata": {},
   "outputs": [],
   "source": [
    "scores = {}\n",
    "for source, ann in log_progress(source_anns):\n",
    "    preds = source_anns[source, ann]\n",
    "    targets = sources[source]\n",
    "    scores[source, ann] = score_markups(preds, targets)"
   ]
  },
  {
   "cell_type": "code",
   "execution_count": null,
   "metadata": {},
   "outputs": [],
   "source": [
    "# table = report_table(scores, SOURCES, ANNS)\n",
    "# output = format_report(table)\n",
    "# output"
   ]
  },
  {
   "cell_type": "markdown",
   "metadata": {},
   "source": [
    "<table border=\"1\" class=\"dataframe\">\n",
    "  <thead>\n",
    "    <tr>\n",
    "      <th></th>\n",
    "      <th colspan=\"3\" halign=\"left\">factru</th>\n",
    "      <th colspan=\"3\" halign=\"left\">gareev</th>\n",
    "      <th colspan=\"3\" halign=\"left\">ne5</th>\n",
    "      <th colspan=\"3\" halign=\"left\">bsnlp</th>\n",
    "    </tr>\n",
    "    <tr>\n",
    "      <th>prec/recall/f1,%</th>\n",
    "      <th>PER</th>\n",
    "      <th>LOC</th>\n",
    "      <th>ORG</th>\n",
    "      <th>PER</th>\n",
    "      <th>LOC</th>\n",
    "      <th>ORG</th>\n",
    "      <th>PER</th>\n",
    "      <th>LOC</th>\n",
    "      <th>ORG</th>\n",
    "      <th>PER</th>\n",
    "      <th>LOC</th>\n",
    "      <th>ORG</th>\n",
    "    </tr>\n",
    "  </thead>\n",
    "  <tbody>\n",
    "    <tr>\n",
    "      <th>deeppavlov</th>\n",
    "      <td>86/96/91</td>\n",
    "      <td>85/91/88</td>\n",
    "      <td>72/75/74</td>\n",
    "      <td>90/99/94</td>\n",
    "      <td>-/-/-</td>\n",
    "      <td>73/86/79</td>\n",
    "      <td>94/93/94</td>\n",
    "      <td>86/98/91</td>\n",
    "      <td>87/88/88</td>\n",
    "      <td>80/94/86</td>\n",
    "      <td>63/95/76</td>\n",
    "      <td>61/63/62</td>\n",
    "    </tr>\n",
    "    <tr>\n",
    "      <th>deeppavlov_bert</th>\n",
    "      <td>97/97/97</td>\n",
    "      <td>91/94/92</td>\n",
    "      <td>85/79/82</td>\n",
    "      <td>96/99/98</td>\n",
    "      <td>-/-/-</td>\n",
    "      <td>88/94/91</td>\n",
    "      <td>99/99/99</td>\n",
    "      <td>98/99/99</td>\n",
    "      <td>98/97/97</td>\n",
    "      <td>93/97/95</td>\n",
    "      <td>73/97/83</td>\n",
    "      <td>79/69/74</td>\n",
    "    </tr>\n",
    "    <tr>\n",
    "      <th>pullenti</th>\n",
    "      <td>95/85/90</td>\n",
    "      <td>86/77/81</td>\n",
    "      <td>68/68/68</td>\n",
    "      <td>91/96/93</td>\n",
    "      <td>-/-/-</td>\n",
    "      <td>63/64/63</td>\n",
    "      <td>97/93/95</td>\n",
    "      <td>86/85/86</td>\n",
    "      <td>62/75/68</td>\n",
    "      <td>91/88/90</td>\n",
    "      <td>71/82/76</td>\n",
    "      <td>58/55/56</td>\n",
    "    </tr>\n",
    "    <tr>\n",
    "      <th>texterra</th>\n",
    "      <td>91/88/90</td>\n",
    "      <td>76/83/80</td>\n",
    "      <td>86/45/59</td>\n",
    "      <td>87/89/88</td>\n",
    "      <td>-/-/-</td>\n",
    "      <td>81/42/56</td>\n",
    "      <td>97/83/90</td>\n",
    "      <td>81/73/77</td>\n",
    "      <td>83/46/59</td>\n",
    "      <td>86/85/85</td>\n",
    "      <td>67/92/78</td>\n",
    "      <td>76/42/54</td>\n",
    "    </tr>\n",
    "    <tr>\n",
    "      <th>tomita</th>\n",
    "      <td>93/92/92</td>\n",
    "      <td>-/-/-</td>\n",
    "      <td>-/-/-</td>\n",
    "      <td>90/93/92</td>\n",
    "      <td>-/-/-</td>\n",
    "      <td>-/-/-</td>\n",
    "      <td>96/92/94</td>\n",
    "      <td>-/-/-</td>\n",
    "      <td>-/-/-</td>\n",
    "      <td>83/92/88</td>\n",
    "      <td>-/-/-</td>\n",
    "      <td>-/-/-</td>\n",
    "    </tr>\n",
    "    <tr>\n",
    "      <th>natasha</th>\n",
    "      <td>96/78/86</td>\n",
    "      <td>72/78/75</td>\n",
    "      <td>41/23/29</td>\n",
    "      <td>96/79/87</td>\n",
    "      <td>-/-/-</td>\n",
    "      <td>40/30/34</td>\n",
    "      <td>98/75/85</td>\n",
    "      <td>70/71/70</td>\n",
    "      <td>49/32/39</td>\n",
    "      <td>91/76/83</td>\n",
    "      <td>65/88/75</td>\n",
    "      <td>45/28/34</td>\n",
    "    </tr>\n",
    "    <tr>\n",
    "      <th>mitie</th>\n",
    "      <td>95/82/88</td>\n",
    "      <td>90/81/86</td>\n",
    "      <td>74/41/53</td>\n",
    "      <td>85/84/84</td>\n",
    "      <td>-/-/-</td>\n",
    "      <td>55/38/45</td>\n",
    "      <td>94/62/75</td>\n",
    "      <td>74/56/64</td>\n",
    "      <td>49/38/43</td>\n",
    "      <td>81/66/73</td>\n",
    "      <td>74/86/80</td>\n",
    "      <td>55/49/52</td>\n",
    "    </tr>\n",
    "  </tbody>\n",
    "</table>"
   ]
  },
  {
   "cell_type": "code",
   "execution_count": null,
   "metadata": {},
   "outputs": [],
   "source": [
    "# output = format_github_report(table)\n",
    "# html = output.to_html(escape=False)\n",
    "# html = html.replace('border=\"1\"', 'border=\"0\"')\n",
    "# print(html)"
   ]
  },
  {
   "cell_type": "code",
   "execution_count": null,
   "metadata": {},
   "outputs": [],
   "source": []
  }
 ],
 "metadata": {
  "kernelspec": {
   "display_name": "Python 3",
   "language": "python",
   "name": "python3"
  },
  "language_info": {
   "codemirror_mode": {
    "name": "ipython",
    "version": 3
   },
   "file_extension": ".py",
   "mimetype": "text/x-python",
   "name": "python",
   "nbconvert_exporter": "python",
   "pygments_lexer": "ipython3",
   "version": "3.6.9"
  }
 },
 "nbformat": 4,
 "nbformat_minor": 2
}
