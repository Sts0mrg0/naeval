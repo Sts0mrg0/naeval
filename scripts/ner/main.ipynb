{
 "cells": [
  {
   "cell_type": "code",
   "execution_count": null,
   "metadata": {},
   "outputs": [],
   "source": [
    "%load_ext autoreload\n",
    "%autoreload 2\n",
    "%run -n main.py"
   ]
  },
  {
   "cell_type": "markdown",
   "metadata": {},
   "source": [
    "# sources"
   ]
  },
  {
   "cell_type": "code",
   "execution_count": null,
   "metadata": {},
   "outputs": [],
   "source": [
    "# path = join_path(DATA_DIR, SOURCE)\n",
    "# !mkdir -p {path}"
   ]
  },
  {
   "cell_type": "code",
   "execution_count": null,
   "metadata": {
    "scrolled": false
   },
   "outputs": [],
   "source": [
    "# for name in [NE5, BSNLP, FACTRU, GAREEV]:\n",
    "#     path = join_path(CORUS_DATA_DIR, CORUS_FILES[name])\n",
    "#     records = LOADS[name](path)\n",
    "#     records = (_.adapted for _ in records)\n",
    "#     records = log_progress(records, desc=name)\n",
    "\n",
    "#     path = join_path(DATA_DIR, TARGET, name + JL + GZ)\n",
    "#     items = (_.as_json for _ in records)\n",
    "#     lines = format_jl(items)\n",
    "#     dump_gz_lines(lines, path)"
   ]
  },
  {
   "cell_type": "code",
   "execution_count": null,
   "metadata": {},
   "outputs": [],
   "source": [
    "%run -n main.py\n",
    "sources = {}\n",
    "for name in [NE5, BSNLP, FACTRU, GAREEV]:\n",
    "    path = join_path(DATA_DIR, SOURCE, name + JL + GZ)\n",
    "    lines = load_gz_lines(path)\n",
    "    items = parse_jl(lines)\n",
    "    sources[name] = [Markup.from_json(_) for _ in items]"
   ]
  },
  {
   "cell_type": "markdown",
   "metadata": {},
   "source": [
    "# annotators"
   ]
  },
  {
   "cell_type": "markdown",
   "metadata": {},
   "source": [
    "## cpu"
   ]
  },
  {
   "cell_type": "code",
   "execution_count": null,
   "metadata": {},
   "outputs": [],
   "source": [
    "# for name in [MITIE, NATASHA, PULLENTI, TEXTERRA, TOMITA, DEEPPAVLOV, DEEPPAVLOV_BERT]:\n",
    "#     path = join_path(DATA_DIR, name)\n",
    "#     !mkdir -p {path}"
   ]
  },
  {
   "cell_type": "code",
   "execution_count": null,
   "metadata": {},
   "outputs": [],
   "source": [
    "# %run -n main.py\n",
    "# docker = docker_client()"
   ]
  },
  {
   "cell_type": "code",
   "execution_count": null,
   "metadata": {},
   "outputs": [],
   "source": [
    "# %run -n main.py\n",
    "# for ann_name in [MITIE, TOMITA, NATASHA, PULLENTI, TEXTERRA]:\n",
    "#     log(ann_name)\n",
    "#     ann = ANNS[ann_name]()\n",
    "#     ann.start(docker)\n",
    "#     ann.wait()\n",
    "\n",
    "#     for source_name in [NE5, BSNLP, FACTRU, GAREEV]:\n",
    "#         records = ann.map(_.text for _ in sources[source_name])\n",
    "#         records = (_.adapted for _ in records)\n",
    "#         records = log_progress(records, desc=source_name)\n",
    "\n",
    "#         path = join_path(DATA_DIR, ann_name, source_name + JL + GZ)\n",
    "#         items = (_.as_json for _ in records)\n",
    "#         lines = format_jl(items)\n",
    "#         dump_gz_lines(lines, path)\n",
    "    \n",
    "#     ann.stop(docker)"
   ]
  },
  {
   "cell_type": "markdown",
   "metadata": {},
   "source": [
    "## gpu"
   ]
  },
  {
   "cell_type": "code",
   "execution_count": null,
   "metadata": {},
   "outputs": [],
   "source": [
    "# for deeppavlov anns rent gpu\n",
    "# select cuda 10.0, high bandwith\n",
    "# !vast search offers | grep '1 x  GTX 1080 Ti'"
   ]
  },
  {
   "cell_type": "code",
   "execution_count": null,
   "metadata": {},
   "outputs": [],
   "source": [
    "# %run -n main\n",
    "# # ann = DeeppavlovAnnotator()\n",
    "# ann = DeeppavlovBERTAnnotator()"
   ]
  },
  {
   "cell_type": "code",
   "execution_count": null,
   "metadata": {},
   "outputs": [],
   "source": [
    "# !vast create instance 488497 --image {ann.image} --disk 20"
   ]
  },
  {
   "cell_type": "code",
   "execution_count": null,
   "metadata": {},
   "outputs": [],
   "source": [
    "# !vast show instances"
   ]
  },
  {
   "cell_type": "code",
   "execution_count": null,
   "metadata": {},
   "outputs": [],
   "source": [
    "# !ssh ssh4.vast.ai -p 12870 -l root -Nf -L {ann.port}:localhost:{ann.container_port}"
   ]
  },
  {
   "cell_type": "code",
   "execution_count": null,
   "metadata": {},
   "outputs": [],
   "source": [
    "# for source_name in [NE5, BSNLP, FACTRU, GAREEV]:\n",
    "#     records = sources[source_name]\n",
    "#     records = log_progress(records, desc=source_name)\n",
    "#     records = ann.map(_.text for _ in records)\n",
    "#     records = (_.adapted for _ in records)\n",
    "\n",
    "#     path = join_path(DATA_DIR, ann.name, source_name + JL + GZ)\n",
    "#     items = (_.as_json for _ in records)\n",
    "#     lines = format_jl(items)\n",
    "#     dump_gz_lines(lines, path)"
   ]
  },
  {
   "cell_type": "code",
   "execution_count": null,
   "metadata": {},
   "outputs": [],
   "source": [
    "# !vast destroy instance 492870"
   ]
  },
  {
   "cell_type": "markdown",
   "metadata": {},
   "source": [
    "# score"
   ]
  },
  {
   "cell_type": "code",
   "execution_count": null,
   "metadata": {},
   "outputs": [],
   "source": [
    "source_anns = {}\n",
    "for source in SOURCES:\n",
    "    for ann in ANNS:\n",
    "        path = join_path(DATA_DIR, ann, source + JL + GZ)\n",
    "        lines = load_gz_lines(path)\n",
    "        items = parse_jl(lines)\n",
    "        source_anns[source, ann] = [Markup.from_json(_) for _ in items]"
   ]
  },
  {
   "cell_type": "code",
   "execution_count": null,
   "metadata": {},
   "outputs": [],
   "source": [
    "scores = {}\n",
    "for source, ann in log_progress(source_anns):\n",
    "    preds = source_anns[source, ann]\n",
    "    targets = sources[source]\n",
    "    scores[source, ann] = score_markups(preds, targets)"
   ]
  },
  {
   "cell_type": "code",
   "execution_count": null,
   "metadata": {},
   "outputs": [],
   "source": [
    "table = scores_report_table(scores, SOURCES, ANNS)\n",
    "html = format_scores_report(table)\n",
    "HTML(html)"
   ]
  },
  {
   "cell_type": "code",
   "execution_count": null,
   "metadata": {},
   "outputs": [],
   "source": [
    "html = format_github_scores_report(table)\n",
    "HTML(html)"
   ]
  },
  {
   "cell_type": "markdown",
   "metadata": {},
   "source": [
    "# bench"
   ]
  },
  {
   "cell_type": "code",
   "execution_count": null,
   "metadata": {},
   "outputs": [],
   "source": [
    "BENCH = [\n",
    "    # GTX 1080 Ti\n",
    "    Bench(\n",
    "        DEEPPAVLOV,\n",
    "        init=5.9,\n",
    "        disk=1 * GB,  # 1GB emb + 5MB model\n",
    "        ram=3 * GB,\n",
    "        speed=24.31,  # 1.95 / 7 cores on CPU,\n",
    "        device=GPU\n",
    "    ),\n",
    "    Bench(\n",
    "        DEEPPAVLOV_BERT,\n",
    "        init=34.5,\n",
    "        disk=2 * GB,\n",
    "        ram=6 * GB,\n",
    "        speed=13.13,  # 17.71 / 3 cores on CPU\n",
    "        device=GPU\n",
    "    ),\n",
    "    \n",
    "    # 16 CPUs\n",
    "    Bench(\n",
    "        PULLENTI,\n",
    "        init=2.85,\n",
    "        disk=16 * MB,\n",
    "        ram=253 * MB,\n",
    "        speed=6.05\n",
    "    ),\n",
    "    Bench(\n",
    "        TEXTERRA,\n",
    "        init=47.6,\n",
    "        disk=193 * MB,\n",
    "        ram=3.3 * GB,  # leaks\n",
    "        speed=20.16 / 5  # utils ~5 cores\n",
    "    ),\n",
    "    Bench(\n",
    "        TOMITA,\n",
    "        init=2.03,\n",
    "        disk=64 * MB,\n",
    "        ram=63 * MB,\n",
    "        speed=29.8,\n",
    "    ),\n",
    "    Bench(\n",
    "        NATASHA,\n",
    "        init=2.05,\n",
    "        disk=700 * KB,\n",
    "        ram=160 * MB,\n",
    "        speed=8.8,\n",
    "    ),\n",
    "    Bench(\n",
    "        MITIE,\n",
    "        init=28.3,\n",
    "        disk=327 * MB,\n",
    "        ram=261 * MB,\n",
    "        speed=32.8,\n",
    "    ),    \n",
    "]\n",
    "\n",
    "html = format_bench_report(BENCH, ANNS)\n",
    "HTML(html)"
   ]
  },
  {
   "cell_type": "code",
   "execution_count": null,
   "metadata": {},
   "outputs": [],
   "source": []
  }
 ],
 "metadata": {
  "kernelspec": {
   "display_name": "Python 3",
   "language": "python",
   "name": "python3"
  },
  "language_info": {
   "codemirror_mode": {
    "name": "ipython",
    "version": 3
   },
   "file_extension": ".py",
   "mimetype": "text/x-python",
   "name": "python",
   "nbconvert_exporter": "python",
   "pygments_lexer": "ipython3",
   "version": "3.6.9"
  }
 },
 "nbformat": 4,
 "nbformat_minor": 2
}
