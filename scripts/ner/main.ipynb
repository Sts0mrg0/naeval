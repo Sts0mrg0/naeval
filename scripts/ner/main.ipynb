{
 "cells": [
  {
   "cell_type": "code",
   "execution_count": 4,
   "metadata": {},
   "outputs": [
    {
     "name": "stdout",
     "output_type": "stream",
     "text": [
      "The autoreload extension is already loaded. To reload it, use:\n",
      "  %reload_ext autoreload\n"
     ]
    }
   ],
   "source": [
    "%load_ext autoreload\n",
    "%autoreload 2\n",
    "%run -n main.py"
   ]
  },
  {
   "cell_type": "markdown",
   "metadata": {},
   "source": [
    "# sources"
   ]
  },
  {
   "cell_type": "code",
   "execution_count": 55,
   "metadata": {},
   "outputs": [],
   "source": [
    "# path = join_path(DATA_DIR, ETALON)\n",
    "# !mkdir -p {path}"
   ]
  },
  {
   "cell_type": "code",
   "execution_count": 15,
   "metadata": {
    "scrolled": false
   },
   "outputs": [],
   "source": [
    "# for name in [NE5, BSNLP, FACTRU, GAREEV]:\n",
    "#     path = join_path(CORUS_DATA_DIR, CORUS_FILES[name])\n",
    "#     records = LOADS[name](path)\n",
    "#     records = (_.adapted for _ in records)\n",
    "#     records = log_progress(records, desc=name)\n",
    "\n",
    "#     path = join_path(DATA_DIR, ETALON, name + JL + GZ)\n",
    "#     items = (_.as_json for _ in records)\n",
    "#     lines = format_jl(items)\n",
    "#     dump_gz_lines(lines, path)"
   ]
  },
  {
   "cell_type": "code",
   "execution_count": 3,
   "metadata": {},
   "outputs": [],
   "source": [
    "%run -n main.py\n",
    "etalons = {}\n",
    "for name in [NE5, BSNLP, FACTRU, GAREEV]:\n",
    "    path = join_path(DATA_DIR, ETALON, name + JL + GZ)\n",
    "    lines = load_gz_lines(path)\n",
    "    items = parse_jl(lines)\n",
    "    etalons[name] = [Markup.from_json(_) for _ in items]"
   ]
  },
  {
   "cell_type": "markdown",
   "metadata": {},
   "source": [
    "# annotators"
   ]
  },
  {
   "cell_type": "markdown",
   "metadata": {},
   "source": [
    "## cpu"
   ]
  },
  {
   "cell_type": "code",
   "execution_count": 3,
   "metadata": {},
   "outputs": [],
   "source": [
    "# for name in [MITIE, NATASHA, PULLENTI, TEXTERRA, TOMITA, DEEPPAVLOV, DEEPPAVLOV_BERT]:\n",
    "#     path = join_path(DATA_DIR, name)\n",
    "#     !mkdir -p {path}"
   ]
  },
  {
   "cell_type": "code",
   "execution_count": 1,
   "metadata": {},
   "outputs": [],
   "source": [
    "%run -n main.py\n",
    "docker = docker_client()"
   ]
  },
  {
   "cell_type": "code",
   "execution_count": null,
   "metadata": {},
   "outputs": [
    {
     "name": "stderr",
     "output_type": "stream",
     "text": [
      "[2020-03-16 14:54:53] pullenti\n"
     ]
    },
    {
     "data": {
      "application/vnd.jupyter.widget-view+json": {
       "model_id": "11136db7f3a8407494b45ba2d29d83d3",
       "version_major": 2,
       "version_minor": 0
      },
      "text/plain": [
       "HBox(children=(FloatProgress(value=1.0, bar_style='info', description='ne5', max=1.0, style=ProgressStyle(desc…"
      ]
     },
     "metadata": {},
     "output_type": "display_data"
    },
    {
     "name": "stdout",
     "output_type": "stream",
     "text": [
      "\n"
     ]
    },
    {
     "data": {
      "application/vnd.jupyter.widget-view+json": {
       "model_id": "2e2d3f3a46b644039964cc1e869fcd62",
       "version_major": 2,
       "version_minor": 0
      },
      "text/plain": [
       "HBox(children=(FloatProgress(value=1.0, bar_style='info', description='bsnlp', max=1.0, style=ProgressStyle(de…"
      ]
     },
     "metadata": {},
     "output_type": "display_data"
    }
   ],
   "source": [
    "%run -n main.py\n",
    "for ann_name in [PULLENTI, TEXTERRA]:  # MITIE, TOMITA, NATASHA, \n",
    "    log(ann_name)\n",
    "    ann = ANNS[ann_name]()\n",
    "    ann.start(docker)\n",
    "    ann.wait()\n",
    "\n",
    "    for source_name in [NE5, BSNLP, FACTRU, GAREEV]:\n",
    "        records = ann.map(_.text for _ in etalons[source_name])\n",
    "        records = (_.adapted for _ in records)\n",
    "        records = log_progress(records, desc=source_name)\n",
    "\n",
    "        path = join_path(DATA_DIR, ann_name, source_name + JL + GZ)\n",
    "        items = (_.as_json for _ in records)\n",
    "        lines = format_jl(items)\n",
    "        dump_gz_lines(lines, path)\n",
    "    \n",
    "    ann.stop(docker)"
   ]
  },
  {
   "cell_type": "markdown",
   "metadata": {},
   "source": [
    "## gpu"
   ]
  },
  {
   "cell_type": "code",
   "execution_count": 5,
   "metadata": {},
   "outputs": [],
   "source": [
    "# for deeppavlov anns rent gpu\n",
    "# select cuda 10.0, high bandwith\n",
    "# !vast search offers | grep '1 x  GTX 1080 Ti'"
   ]
  },
  {
   "cell_type": "code",
   "execution_count": 21,
   "metadata": {},
   "outputs": [],
   "source": [
    "# %run -n main\n",
    "# # ann = DeeppavlovAnnotator()\n",
    "# ann = DeeppavlovBERTAnnotator()"
   ]
  },
  {
   "cell_type": "code",
   "execution_count": 22,
   "metadata": {},
   "outputs": [],
   "source": [
    "# !vast create instance 488497 --image {ann.image} --disk 20"
   ]
  },
  {
   "cell_type": "code",
   "execution_count": 29,
   "metadata": {},
   "outputs": [],
   "source": [
    "# !vast show instances"
   ]
  },
  {
   "cell_type": "code",
   "execution_count": 25,
   "metadata": {},
   "outputs": [],
   "source": [
    "# !ssh ssh4.vast.ai -p 12870 -l root -Nf -L {ann.port}:localhost:{ann.container_port}"
   ]
  },
  {
   "cell_type": "code",
   "execution_count": 26,
   "metadata": {},
   "outputs": [],
   "source": [
    "# for source_name in [NE5, BSNLP, FACTRU, GAREEV]:\n",
    "#     records = etalons[source_name]\n",
    "#     records = log_progress(records, desc=source_name)\n",
    "#     records = ann.map(_.text for _ in records)\n",
    "#     records = (_.adapted for _ in records)\n",
    "\n",
    "#     path = join_path(DATA_DIR, ann.name, source_name + JL + GZ)\n",
    "#     items = (_.as_json for _ in records)\n",
    "#     lines = format_jl(items)\n",
    "#     dump_gz_lines(lines, path)"
   ]
  },
  {
   "cell_type": "code",
   "execution_count": 27,
   "metadata": {},
   "outputs": [],
   "source": [
    "# !vast destroy instance 492870"
   ]
  },
  {
   "cell_type": "code",
   "execution_count": null,
   "metadata": {},
   "outputs": [],
   "source": []
  },
  {
   "cell_type": "code",
   "execution_count": null,
   "metadata": {},
   "outputs": [],
   "source": []
  },
  {
   "cell_type": "code",
   "execution_count": null,
   "metadata": {},
   "outputs": [],
   "source": []
  }
 ],
 "metadata": {
  "kernelspec": {
   "display_name": "Python 3",
   "language": "python",
   "name": "python3"
  },
  "language_info": {
   "codemirror_mode": {
    "name": "ipython",
    "version": 3
   },
   "file_extension": ".py",
   "mimetype": "text/x-python",
   "name": "python",
   "nbconvert_exporter": "python",
   "pygments_lexer": "ipython3",
   "version": "3.6.9"
  }
 },
 "nbformat": 4,
 "nbformat_minor": 2
}
