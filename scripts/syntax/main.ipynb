{
 "cells": [
  {
   "cell_type": "code",
   "execution_count": null,
   "metadata": {},
   "outputs": [],
   "source": [
    "%load_ext autoreload\n",
    "%autoreload 2\n",
    "%run -n main.py"
   ]
  },
  {
   "cell_type": "markdown",
   "metadata": {},
   "source": [
    "# datasets"
   ]
  },
  {
   "cell_type": "code",
   "execution_count": null,
   "metadata": {},
   "outputs": [],
   "source": [
    "# path = join_path(DATA_DIR, DATASET)\n",
    "# !mkdir -p {path}"
   ]
  },
  {
   "cell_type": "code",
   "execution_count": null,
   "metadata": {},
   "outputs": [],
   "source": [
    "# for name in DATASETS:\n",
    "#     paths = (\n",
    "#         join_path(CORUS_DATA_DIR, _)\n",
    "#         for _ in CORUS_FILES[name]\n",
    "#     )\n",
    "#     records = (\n",
    "#         record\n",
    "#         for path in paths\n",
    "#         for record in load_dataset(path)\n",
    "#     )\n",
    "#     records = log_progress(records, desc=name)\n",
    "#     records = sample(records, 1000)\n",
    "\n",
    "#     path = join_path(DATA_DIR, DATASET, name + JL + GZ)\n",
    "#     items = as_jsons(records)\n",
    "#     lines = format_jl(items)\n",
    "#     dump_gz_lines(lines, path)"
   ]
  },
  {
   "cell_type": "code",
   "execution_count": null,
   "metadata": {},
   "outputs": [],
   "source": [
    "datasets = {}\n",
    "for name in DATASETS:\n",
    "    path = join_path(DATA_DIR, DATASET, name + JL + GZ)\n",
    "    lines = load_gz_lines(path)\n",
    "    items = parse_jl(lines)\n",
    "    datasets[name] = list(from_jsons(items, Markup))"
   ]
  },
  {
   "cell_type": "markdown",
   "metadata": {},
   "source": [
    "# models"
   ]
  },
  {
   "cell_type": "code",
   "execution_count": null,
   "metadata": {},
   "outputs": [],
   "source": [
    "# for name in MODELS:\n",
    "#     path = join_path(DATA_DIR, name)\n",
    "#     !mkdir -p {path}"
   ]
  },
  {
   "cell_type": "markdown",
   "metadata": {},
   "source": [
    "## cpu"
   ]
  },
  {
   "cell_type": "code",
   "execution_count": null,
   "metadata": {},
   "outputs": [],
   "source": [
    "# docker = docker_client()"
   ]
  },
  {
   "cell_type": "code",
   "execution_count": null,
   "metadata": {},
   "outputs": [],
   "source": [
    "# for model_name in [UDPIPE, SPACY]:\n",
    "#     log(model_name)\n",
    "#     model = MODELS[model_name]()\n",
    "#     model.start(docker)\n",
    "#     model.wait()\n",
    "\n",
    "#     for dataset_name in DATASETS:\n",
    "#         records = model.map(_.words for _ in datasets[dataset_name])\n",
    "#         records = log_progress(records, desc=dataset_name)\n",
    "\n",
    "#         path = join_path(DATA_DIR, model_name, dataset_name + JL + GZ)\n",
    "#         items = as_jsons(records)\n",
    "#         lines = format_jl(items)\n",
    "#         dump_gz_lines(lines, path)\n",
    "    \n",
    "#     model.stop(docker)"
   ]
  },
  {
   "cell_type": "markdown",
   "metadata": {},
   "source": [
    "## gpu"
   ]
  },
  {
   "cell_type": "code",
   "execution_count": null,
   "metadata": {},
   "outputs": [],
   "source": [
    "# # for deeppavlov models rent gpu\n",
    "# # select cuda 10.0, high bandwith\n",
    "# !vast search offers | grep '1 x  GTX 1080 Ti'"
   ]
  },
  {
   "cell_type": "code",
   "execution_count": null,
   "metadata": {},
   "outputs": [],
   "source": [
    "# model = DeeppavlovBERTModel()"
   ]
  },
  {
   "cell_type": "code",
   "execution_count": null,
   "metadata": {},
   "outputs": [],
   "source": [
    "# !vast create instance 479226 --image {model.image} --disk 30"
   ]
  },
  {
   "cell_type": "code",
   "execution_count": null,
   "metadata": {},
   "outputs": [],
   "source": [
    "# !vast show instances"
   ]
  },
  {
   "cell_type": "code",
   "execution_count": null,
   "metadata": {},
   "outputs": [],
   "source": [
    "# !ssh ssh5.vast.ai -p 16522 -l root -Nf -L {model.port}:localhost:{model.container_port}"
   ]
  },
  {
   "cell_type": "code",
   "execution_count": null,
   "metadata": {},
   "outputs": [],
   "source": [
    "# for dataset_name in DATASETS:\n",
    "#     records = datasets[dataset_name]\n",
    "#     records = log_progress(records, desc=dataset_name)\n",
    "#     records = model.map(_.words for _ in records)\n",
    "\n",
    "#     path = join_path(DATA_DIR, model.name, dataset_name + JL + GZ)\n",
    "#     items = as_jsons(records)\n",
    "#     lines = format_jl(items)\n",
    "#     dump_gz_lines(lines, path)"
   ]
  },
  {
   "cell_type": "code",
   "execution_count": null,
   "metadata": {},
   "outputs": [],
   "source": [
    "# !vast destroy instance 496279"
   ]
  },
  {
   "cell_type": "markdown",
   "metadata": {},
   "source": [
    "# score"
   ]
  },
  {
   "cell_type": "code",
   "execution_count": null,
   "metadata": {},
   "outputs": [],
   "source": [
    "dataset_models = {}\n",
    "for dataset in DATASETS:\n",
    "    for model in MODELS:\n",
    "        path = join_path(DATA_DIR, model, dataset + JL + GZ)\n",
    "        lines = load_gz_lines(path)\n",
    "        items = parse_jl(lines)\n",
    "        dataset_models[dataset, model] = list(from_jsons(items, Markup))"
   ]
  },
  {
   "cell_type": "code",
   "execution_count": null,
   "metadata": {},
   "outputs": [],
   "source": [
    "scores = {}\n",
    "for dataset, model in log_progress(dataset_models):\n",
    "    preds = dataset_models[dataset, model]\n",
    "    targets = datasets[dataset]\n",
    "    scores[dataset, model] = score_markups(preds, targets)"
   ]
  },
  {
   "cell_type": "markdown",
   "metadata": {},
   "source": [
    "# report"
   ]
  },
  {
   "cell_type": "code",
   "execution_count": null,
   "metadata": {},
   "outputs": [],
   "source": [
    "table = scores_report_table(scores, DATASETS, MODELS)\n",
    "html = format_scores_report(table)\n",
    "patch_readme(SYNTAX1, html, README)\n",
    "HTML(html)"
   ]
  },
  {
   "cell_type": "code",
   "execution_count": null,
   "metadata": {},
   "outputs": [],
   "source": [
    "BENCH = [\n",
    "    Bench(\n",
    "        UDPIPE,\n",
    "        init=6.91,\n",
    "        disk=45 * MB,\n",
    "        ram=242 * MB,\n",
    "        speed=56.2,\n",
    "    ),\n",
    "    Bench(\n",
    "        SPACY,\n",
    "        init=10.9,\n",
    "        disk=89 * MB,\n",
    "        ram=579 * MB,\n",
    "        speed=31.6,\n",
    "    ),\n",
    "    Bench(\n",
    "        DEEPPAVLOV_BERT,\n",
    "        init=34,\n",
    "        disk=(706 + 721) * MB,  # BERT + model\n",
    "        ram=8.5 * GB,\n",
    "        speed=75,\n",
    "        device=GPU\n",
    "    ),\n",
    "\n",
    "]\n",
    "\n",
    "html = format_bench_report(BENCH, MODELS)\n",
    "patch_readme(SYNTAX2, html, README)\n",
    "HTML(html)"
   ]
  },
  {
   "cell_type": "code",
   "execution_count": null,
   "metadata": {},
   "outputs": [],
   "source": []
  }
 ],
 "metadata": {
  "kernelspec": {
   "display_name": "Python 3",
   "language": "python",
   "name": "python3"
  },
  "language_info": {
   "codemirror_mode": {
    "name": "ipython",
    "version": 3
   },
   "file_extension": ".py",
   "mimetype": "text/x-python",
   "name": "python",
   "nbconvert_exporter": "python",
   "pygments_lexer": "ipython3",
   "version": "3.6.9"
  }
 },
 "nbformat": 4,
 "nbformat_minor": 2
}
