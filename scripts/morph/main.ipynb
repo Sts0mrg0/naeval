{
 "cells": [
  {
   "cell_type": "code",
   "execution_count": 50,
   "metadata": {},
   "outputs": [
    {
     "name": "stdout",
     "output_type": "stream",
     "text": [
      "The autoreload extension is already loaded. To reload it, use:\n",
      "  %reload_ext autoreload\n"
     ]
    }
   ],
   "source": [
    "%load_ext autoreload\n",
    "%autoreload 2\n",
    "%run -n main.py"
   ]
  },
  {
   "cell_type": "markdown",
   "metadata": {},
   "source": [
    "# datasets"
   ]
  },
  {
   "cell_type": "code",
   "execution_count": null,
   "metadata": {},
   "outputs": [],
   "source": [
    "# path = join_path(DATA_DIR, DATASET)\n",
    "# !mkdir -p {path}"
   ]
  },
  {
   "cell_type": "code",
   "execution_count": null,
   "metadata": {},
   "outputs": [],
   "source": [
    "# for name in DATASETS:\n",
    "#     paths = (\n",
    "#         join_path(CORUS_DATA_DIR, _)\n",
    "#         for _ in CORUS_FILES[name]\n",
    "#     )\n",
    "#     records = (\n",
    "#         record\n",
    "#         for path in paths\n",
    "#         for record in load_dataset(path)\n",
    "#     )\n",
    "#     records = log_progress(records, desc=name)\n",
    "#     records = sample(records, 1000)\n",
    "\n",
    "#     path = join_path(DATA_DIR, DATASET, name + JL + GZ)\n",
    "#     items = as_jsons(records)\n",
    "#     lines = format_jl(items)\n",
    "#     dump_gz_lines(lines, path)"
   ]
  },
  {
   "cell_type": "code",
   "execution_count": 2,
   "metadata": {},
   "outputs": [],
   "source": [
    "datasets = {}\n",
    "for name in DATASETS:\n",
    "    path = join_path(DATA_DIR, DATASET, name + JL + GZ)\n",
    "    lines = load_gz_lines(path)\n",
    "    items = parse_jl(lines)\n",
    "    datasets[name] = list(from_jsons(items, Markup))"
   ]
  },
  {
   "cell_type": "markdown",
   "metadata": {},
   "source": [
    "# models"
   ]
  },
  {
   "cell_type": "code",
   "execution_count": null,
   "metadata": {},
   "outputs": [],
   "source": [
    "# for name in MODELS:\n",
    "#     path = join_path(DATA_DIR, name)\n",
    "#     !mkdir -p {path}"
   ]
  },
  {
   "cell_type": "markdown",
   "metadata": {},
   "source": [
    "## cpu"
   ]
  },
  {
   "cell_type": "code",
   "execution_count": 58,
   "metadata": {},
   "outputs": [],
   "source": [
    "# docker = docker_client()"
   ]
  },
  {
   "cell_type": "code",
   "execution_count": null,
   "metadata": {},
   "outputs": [],
   "source": [
    "# for model_name in [UDPIPE, SPACY, MARU, RNNMORPH]:\n",
    "#     log(model_name)\n",
    "#     model = MODELS[model_name]()\n",
    "#     model.start(docker)\n",
    "#     model.wait()\n",
    "\n",
    "#     for dataset_name in DATASETS:\n",
    "#         records = model.map(_.words for _ in datasets[dataset_name])\n",
    "#         records = log_progress(records, desc=dataset_name)\n",
    "\n",
    "#         path = join_path(DATA_DIR, model_name, dataset_name + JL + GZ)\n",
    "#         items = as_jsons(records)\n",
    "#         lines = format_jl(items)\n",
    "#         dump_gz_lines(lines, path)\n",
    "    \n",
    "#     model.stop(docker)"
   ]
  },
  {
   "cell_type": "markdown",
   "metadata": {},
   "source": [
    "## gpu"
   ]
  },
  {
   "cell_type": "code",
   "execution_count": 51,
   "metadata": {},
   "outputs": [],
   "source": [
    "# # for deeppavlov models rent gpu\n",
    "# # select cuda 10.0, high bandwith\n",
    "# !vast search offers | grep '1 x  GTX 1080 Ti'"
   ]
  },
  {
   "cell_type": "code",
   "execution_count": 52,
   "metadata": {},
   "outputs": [],
   "source": [
    "# # model = DeeppavlovModel()\n",
    "# model = DeeppavlovBERTModel()"
   ]
  },
  {
   "cell_type": "code",
   "execution_count": 53,
   "metadata": {},
   "outputs": [],
   "source": [
    "# !vast create instance 380530 --image {model.image} --disk 30"
   ]
  },
  {
   "cell_type": "code",
   "execution_count": 63,
   "metadata": {},
   "outputs": [],
   "source": [
    "# !vast show instances"
   ]
  },
  {
   "cell_type": "code",
   "execution_count": 55,
   "metadata": {},
   "outputs": [],
   "source": [
    "# !ssh ssh4.vast.ai -p 16279 -l root -Nf -L {model.port}:localhost:{model.container_port}"
   ]
  },
  {
   "cell_type": "code",
   "execution_count": 56,
   "metadata": {},
   "outputs": [],
   "source": [
    "# for dataset_name in DATASETS:\n",
    "#     records = datasets[dataset_name]\n",
    "#     records = log_progress(records, desc=dataset_name)\n",
    "#     records = model.map(_.words for _ in records)\n",
    "\n",
    "#     path = join_path(DATA_DIR, model.name, dataset_name + JL + GZ)\n",
    "#     items = as_jsons(records)\n",
    "#     lines = format_jl(items)\n",
    "#     dump_gz_lines(lines, path)"
   ]
  },
  {
   "cell_type": "code",
   "execution_count": 62,
   "metadata": {},
   "outputs": [],
   "source": [
    "# !vast destroy instance 496279"
   ]
  },
  {
   "cell_type": "markdown",
   "metadata": {},
   "source": [
    "# score"
   ]
  },
  {
   "cell_type": "code",
   "execution_count": 46,
   "metadata": {},
   "outputs": [],
   "source": [
    "dataset_models = {}\n",
    "for dataset in DATASETS:\n",
    "    for model in MODELS:\n",
    "        path = join_path(DATA_DIR, model, dataset + JL + GZ)\n",
    "        lines = load_gz_lines(path)\n",
    "        items = parse_jl(lines)\n",
    "        dataset_models[dataset, model] = list(from_jsons(items, Markup))"
   ]
  },
  {
   "cell_type": "code",
   "execution_count": 47,
   "metadata": {},
   "outputs": [
    {
     "data": {
      "application/vnd.jupyter.widget-view+json": {
       "model_id": "b798cace3cc14c1eaee238f09321bd73",
       "version_major": 2,
       "version_minor": 0
      },
      "text/plain": [
       "HBox(children=(FloatProgress(value=0.0, max=30.0), HTML(value='')))"
      ]
     },
     "metadata": {},
     "output_type": "display_data"
    },
    {
     "name": "stdout",
     "output_type": "stream",
     "text": [
      "\n"
     ]
    }
   ],
   "source": [
    "scores = {}\n",
    "for dataset, model in log_progress(dataset_models):\n",
    "    preds = dataset_models[dataset, model]\n",
    "    targets = datasets[dataset]\n",
    "    scores[dataset, model] = score_markups(preds, targets)"
   ]
  },
  {
   "cell_type": "markdown",
   "metadata": {},
   "source": [
    "# report"
   ]
  },
  {
   "cell_type": "code",
   "execution_count": 49,
   "metadata": {},
   "outputs": [
    {
     "data": {
      "text/html": [
       "<table border=\"0\" class=\"dataframe\">\n",
       "  <thead>\n",
       "    <tr style=\"text-align: right;\">\n",
       "      <th></th>\n",
       "      <th>news</th>\n",
       "      <th>wiki</th>\n",
       "      <th>fiction</th>\n",
       "      <th>social</th>\n",
       "      <th>poetry</th>\n",
       "    </tr>\n",
       "  </thead>\n",
       "  <tbody>\n",
       "    <tr>\n",
       "      <th>udpipe</th>\n",
       "      <td>0.918</td>\n",
       "      <td>0.811</td>\n",
       "      <td><b>0.957</b></td>\n",
       "      <td><b>0.870</b></td>\n",
       "      <td>0.776</td>\n",
       "    </tr>\n",
       "    <tr>\n",
       "      <th>spacy</th>\n",
       "      <td><b>0.919</b></td>\n",
       "      <td><b>0.812</b></td>\n",
       "      <td>0.938</td>\n",
       "      <td>0.836</td>\n",
       "      <td>0.729</td>\n",
       "    </tr>\n",
       "    <tr>\n",
       "      <th>maru</th>\n",
       "      <td>0.894</td>\n",
       "      <td>0.808</td>\n",
       "      <td>0.887</td>\n",
       "      <td>0.861</td>\n",
       "      <td><b>0.840</b></td>\n",
       "    </tr>\n",
       "    <tr>\n",
       "      <th>rnnmorph</th>\n",
       "      <td>0.896</td>\n",
       "      <td>0.812</td>\n",
       "      <td>0.890</td>\n",
       "      <td>0.860</td>\n",
       "      <td>0.838</td>\n",
       "    </tr>\n",
       "    <tr>\n",
       "      <th>deeppavlov</th>\n",
       "      <td><b>0.940</b></td>\n",
       "      <td><b>0.841</b></td>\n",
       "      <td><b>0.944</b></td>\n",
       "      <td><b>0.870</b></td>\n",
       "      <td><b>0.857</b></td>\n",
       "    </tr>\n",
       "    <tr>\n",
       "      <th>deeppavlov_bert</th>\n",
       "      <td><b>0.951</b></td>\n",
       "      <td><b>0.868</b></td>\n",
       "      <td><b>0.964</b></td>\n",
       "      <td><b>0.892</b></td>\n",
       "      <td><b>0.865</b></td>\n",
       "    </tr>\n",
       "  </tbody>\n",
       "</table>"
      ],
      "text/plain": [
       "<IPython.core.display.HTML object>"
      ]
     },
     "execution_count": 49,
     "metadata": {},
     "output_type": "execute_result"
    }
   ],
   "source": [
    "table = scores_report_table(scores, DATASETS, MODELS)\n",
    "html = format_scores_report(table)\n",
    "HTML(html)"
   ]
  },
  {
   "cell_type": "code",
   "execution_count": 60,
   "metadata": {},
   "outputs": [
    {
     "data": {
      "text/html": [
       "<table border=\"0\" class=\"dataframe\">\n",
       "  <thead>\n",
       "    <tr style=\"text-align: right;\">\n",
       "      <th></th>\n",
       "      <th>init, s</th>\n",
       "      <th>disk, mb</th>\n",
       "      <th>ram, mb</th>\n",
       "      <th>speed, it/s</th>\n",
       "    </tr>\n",
       "  </thead>\n",
       "  <tbody>\n",
       "    <tr>\n",
       "      <th>rnnmorph</th>\n",
       "      <td><b>8.7</b></td>\n",
       "      <td><b>10</b></td>\n",
       "      <td><b>289</b></td>\n",
       "      <td>16.6</td>\n",
       "    </tr>\n",
       "    <tr>\n",
       "      <th>maru</th>\n",
       "      <td>15.8</td>\n",
       "      <td><b>44</b></td>\n",
       "      <td><b>370</b></td>\n",
       "      <td>36.4</td>\n",
       "    </tr>\n",
       "    <tr>\n",
       "      <th>udpipe</th>\n",
       "      <td><b>6.9</b></td>\n",
       "      <td>45</td>\n",
       "      <td><b>242</b></td>\n",
       "      <td><b>56.2</b></td>\n",
       "    </tr>\n",
       "    <tr>\n",
       "      <th>spacy</th>\n",
       "      <td>10.9</td>\n",
       "      <td>89</td>\n",
       "      <td>579</td>\n",
       "      <td>30.6</td>\n",
       "    </tr>\n",
       "    <tr>\n",
       "      <th>deeppavlov</th>\n",
       "      <td><b>4.0</b></td>\n",
       "      <td><b>32</b></td>\n",
       "      <td>10240</td>\n",
       "      <td><b>90.0 (gpu)</b></td>\n",
       "    </tr>\n",
       "    <tr>\n",
       "      <th>deeppavlov_bert</th>\n",
       "      <td>20.0</td>\n",
       "      <td>1393</td>\n",
       "      <td>8704</td>\n",
       "      <td><b>85.0 (gpu)</b></td>\n",
       "    </tr>\n",
       "  </tbody>\n",
       "</table>"
      ],
      "text/plain": [
       "<IPython.core.display.HTML object>"
      ]
     },
     "execution_count": 60,
     "metadata": {},
     "output_type": "execute_result"
    }
   ],
   "source": [
    "BENCH = [\n",
    "    Bench(\n",
    "        UDPIPE,\n",
    "        init=6.91,\n",
    "        disk=45 * MB,\n",
    "        ram=242 * MB,\n",
    "        speed=56.2,\n",
    "    ),\n",
    "    Bench(\n",
    "        SPACY,\n",
    "        init=10.9,\n",
    "        disk=89 * MB,\n",
    "        ram=579 * MB,\n",
    "        speed=30.6,\n",
    "    ),\n",
    "    Bench(\n",
    "        MARU,\n",
    "        init=15.8,\n",
    "        disk=44 * MB,\n",
    "        ram=370 * MB,\n",
    "        speed=36.4,\n",
    "    ),\n",
    "    Bench(\n",
    "        RNNMORPH,\n",
    "        init=8.73,\n",
    "        disk=10 * MB,\n",
    "        ram=289 * MB,\n",
    "        speed=16.6,\n",
    "    ),\n",
    "    Bench(\n",
    "        DEEPPAVLOV,\n",
    "        init=4,\n",
    "        disk=32 * MB,\n",
    "        ram=10 * GB,\n",
    "        speed=90,\n",
    "        device=GPU\n",
    "    ),\n",
    "    Bench(\n",
    "        DEEPPAVLOV_BERT,\n",
    "        init=20,\n",
    "        disk=(706 + 687) * MB,  # BERT + model\n",
    "        ram=8.5 * GB,\n",
    "        speed=85,\n",
    "        device=GPU\n",
    "    ),\n",
    "]\n",
    "\n",
    "html = format_bench_report(BENCH, MODELS)\n",
    "patch_readme(MORPH2, html, README)\n",
    "HTML(html)"
   ]
  },
  {
   "cell_type": "code",
   "execution_count": null,
   "metadata": {},
   "outputs": [],
   "source": []
  }
 ],
 "metadata": {
  "kernelspec": {
   "display_name": "Python 3",
   "language": "python",
   "name": "python3"
  },
  "language_info": {
   "codemirror_mode": {
    "name": "ipython",
    "version": 3
   },
   "file_extension": ".py",
   "mimetype": "text/x-python",
   "name": "python",
   "nbconvert_exporter": "python",
   "pygments_lexer": "ipython3",
   "version": "3.6.9"
  }
 },
 "nbformat": 4,
 "nbformat_minor": 2
}
